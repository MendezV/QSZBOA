{
 "cells": [
  {
   "cell_type": "code",
   "execution_count": 1,
   "metadata": {},
   "outputs": [
    {
     "name": "stdout",
     "output_type": "stream",
     "text": [
      "Populating the interactive namespace from numpy and matplotlib\n"
     ]
    }
   ],
   "source": [
    "%pylab inline\n"
   ]
  },
  {
   "cell_type": "code",
   "execution_count": null,
   "metadata": {
    "collapsed": true
   },
   "outputs": [],
   "source": [
    "file = open('VST.dat','r') \n",
    " \n",
    "TrayV=file.readlines() \n",
    "\n",
    "file.close() \n",
    "\n",
    "\n",
    "##CONSTANTS\n",
    "###############################################\n",
    "\n",
    "#constants\n",
    "cosa1=1001\n",
    "points_x=cosa1\n",
    "points_t=4*int(int(points_x**2 /50)/4.0) #para quesea multiplo de 4\n",
    "DD=-20\n",
    "steps=int(cosa1*5)\n",
    "hbar=1.0\n",
    "m=1.0\n",
    "W=10.0 #size of the well\n",
    "d=0.5\n",
    "cent=-0.0\n",
    "\n",
    "\n",
    "# create grid\n",
    "tf=100\n",
    "W=W/2.0\n",
    "xf=W\n",
    "x0=-W\n",
    "dt=tf/points_t\n",
    "dx=(xf-x0)/(points_x)\n",
    "x=np.linspace(x0,xf,points_x) #debe tener un numero impar de elemntos para que sirva NInteg\n",
    "t=np.linspace(0,tf,points_t)\n"
   ]
  },
  {
   "cell_type": "code",
   "execution_count": null,
   "metadata": {
    "collapsed": true
   },
   "outputs": [],
   "source": [
    "defV=np.array([TrayV[i][0:-1].split(',') for i in range(points_t)], dtype=np.float).T\n"
   ]
  },
  {
   "cell_type": "code",
   "execution_count": null,
   "metadata": {},
   "outputs": [],
   "source": [
    "plot(defV.T[:,1])"
   ]
  },
  {
   "cell_type": "code",
   "execution_count": null,
   "metadata": {},
   "outputs": [],
   "source": [
    "%matplotlib inline\n",
    "from __future__ import print_function\n",
    "from ipywidgets import interact, interactive, fixed, interact_manual\n",
    "import ipywidgets as widgets\n",
    "from IPython.html.widgets import *\n",
    "\n",
    "import numpy as np\n",
    "import matplotlib.pyplot as plt\n",
    "\n",
    "from matplotlib import animation, rc\n",
    "from IPython.display import HTML\n",
    "rc('animation', html='html5')\n",
    "# First set up the figure, the axis, and the plot element we want to animate\n",
    "fig, ax = plt.subplots()\n",
    "\n",
    "ax.set_xlim((-5,5))\n",
    "ax.set_ylim((-14,14))\n",
    "#ax.set_ylabel(\"$2E$ (a.u.)\",size=37)\n",
    "#ax.set_xlabel(\"$x$ (a.u.)\",size=37)\n",
    "pylab.rcParams['figure.figsize'] = (12, 8)\n",
    "matplotlib.rcParams.update({'font.size': 18})\n",
    "\n",
    "ax.grid(which='minor', alpha=0.2)                                                \n",
    "ax.grid(which='major', alpha=0.5)                                                \n",
    "\n",
    "\n",
    "line, = ax.plot([], [], lw=2, c=np.random.rand(3,1))\n",
    "line10, = ax.plot([], [], lw=2, c='r')\n",
    "\n",
    "\n",
    "\n",
    "# initialization function: plot the background of each frame\n",
    "def init():\n",
    "    \n",
    "    line10.set_data([], [])\n",
    "    \n",
    "    return (line,)\n",
    "# animation function. This is called sequentially\n",
    "def animate2(i):\n",
    "    x = np.linspace(0, 2, 1000)\n",
    "    y = np.sin(2 * np.pi * (x - 0.01 * i))\n",
    "    line.set_data(x, y)\n",
    "    return (line,)\n",
    "def animate(i):\n",
    "    \n",
    "    x10 = x\n",
    "    #y10 = defV[:,i]+1000*(np.sign(-TrayX[:,i]+TrayX[0,i])+1)+1000*(np.sign(TrayX[:,i]-TrayX[-1,i])+1)\n",
    "    y10 = defV[:,50*i]\n",
    "    \n",
    "    line10.set_data(x10, y10)\n",
    "    \n",
    "   \n",
    "    \n",
    "    \n",
    "    return(line,)\n",
    "# call the animator. blit=True means only re-draw the parts that have changed.\n",
    "anim = animation.FuncAnimation(fig, animate, init_func=init,\n",
    "                               frames=400, interval=40, blit=True)\n",
    "HTML(anim.to_html5_video())\n",
    "\n",
    "\n"
   ]
  },
  {
   "cell_type": "code",
   "execution_count": null,
   "metadata": {
    "collapsed": true
   },
   "outputs": [],
   "source": []
  },
  {
   "cell_type": "code",
   "execution_count": null,
   "metadata": {
    "collapsed": true
   },
   "outputs": [],
   "source": []
  },
  {
   "cell_type": "code",
   "execution_count": null,
   "metadata": {
    "collapsed": true
   },
   "outputs": [],
   "source": []
  }
 ],
 "metadata": {
  "kernelspec": {
   "display_name": "Python 3",
   "language": "python",
   "name": "python3"
  },
  "language_info": {
   "codemirror_mode": {
    "name": "ipython",
    "version": 3
   },
   "file_extension": ".py",
   "mimetype": "text/x-python",
   "name": "python",
   "nbconvert_exporter": "python",
   "pygments_lexer": "ipython3",
   "version": "3.6.3"
  }
 },
 "nbformat": 4,
 "nbformat_minor": 2
}
